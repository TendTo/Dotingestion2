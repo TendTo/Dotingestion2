{
 "cells": [
  {
   "cell_type": "markdown",
   "metadata": {
    "cell_style": "center",
    "slideshow": {
     "slide_type": "slide"
    }
   },
   "source": [
    "# Dotingestion 2:\n",
    "### there is no Dotingestion 1"
   ]
  },
  {
   "cell_type": "markdown",
   "metadata": {
    "slideshow": {
     "slide_type": "slide"
    }
   },
   "source": [
    "## What is [Dota 2](https://www.dota2.com/home)?"
   ]
  },
  {
   "cell_type": "markdown",
   "metadata": {
    "cell_style": "split",
    "slideshow": {
     "slide_type": "fragment"
    }
   },
   "source": [
    "<img src=\"https://i.pinimg.com/originals/8a/8b/50/8a8b50da2bc4afa933718061fe291520.jpg\" alt=\"Dota 2 logo\" style=\"width: 600px;\" style=\"margin: auto;\"/>"
   ]
  },
  {
   "cell_type": "markdown",
   "metadata": {
    "cell_style": "split",
    "slideshow": {
     "slide_type": "fragment"
    }
   },
   "source": [
    "Dota 2 is a multiplayer online battle arena (MOBA) video game developed and published by Valve.\n",
    "Ten players, split into two teams of five, compete to destroy a large structure defended by the opposing team known as the \"Ancient\", whilst defending their own.\n",
    "The game is controlled using standard real-time strategy (RTS) controls, and is presented on a single map in a three-dimensional isometric perspective."
   ]
  },
  {
   "cell_type": "markdown",
   "metadata": {
    "cell_style": "center",
    "slideshow": {
     "slide_type": "subslide"
    }
   },
   "source": [
    "## But one does not simply play Dota...\n"
   ]
  },
  {
   "cell_type": "markdown",
   "metadata": {
    "cell_style": "split",
    "slideshow": {
     "slide_type": "fragment"
    }
   },
   "source": [
    "<img src=\"https://i.stack.imgur.com/GIkIj.jpg\" alt=\"Dota 2 map\" style=\"width: 90%;\"/>"
   ]
  },
  {
   "cell_type": "markdown",
   "metadata": {
    "cell_style": "split",
    "slideshow": {
     "slide_type": "fragment"
    }
   },
   "source": [
    "What makes the game very enjoyable for veteran players (and extremely hard to get into for newbies) is the incredible depth of the game mechanics.\n",
    "Just to give an idea, at the beginning of each game the players have to choose a hero, the character they will play for the rest of the match.\n",
    "With a hero pool of over 120 heroes, each with 4 (or more) unique abilities, there are more than 10^14 possible team combinations!\n",
    "And this without taking into consideration the many ways each hero can be played, which go from some minor changes to drastic alterations on one's role in the team."
   ]
  },
  {
   "cell_type": "markdown",
   "metadata": {
    "cell_style": "center",
    "slideshow": {
     "slide_type": "subslide"
    }
   },
   "source": [
    "## If you are good at something, never do it for free..."
   ]
  },
  {
   "cell_type": "markdown",
   "metadata": {
    "cell_style": "split",
    "slideshow": {
     "slide_type": "fragment"
    }
   },
   "source": [
    "<img src=\"https://img.redbull.com/images/q_auto,f_auto/redbullcom/2018/01/02/976bd59b-e905-4d7d-9f96-0c206c1b66e3/dota2-valve-prize-pool-history\" alt=\"international\" style=\"width: 90%;\"/>"
   ]
  },
  {
   "cell_type": "markdown",
   "metadata": {
    "cell_style": "split",
    "slideshow": {
     "slide_type": "fragment"
    }
   },
   "source": [
    "**The International** is Dota's annual esports world championship tournament.\n",
    "Starting with The International 2013 onward, the tournament's prize pool began to be crowdfunded through a type of in-game battle pass called the \"Compendium\", which raises money from players buying them to get exclusive in-game virtual goods and other bonuses. 25% of all the revenue made from yearly Compendiums goes directly to the prize pool. Each iteration of The International has surpassed the previous one's prize pool, with the last one, going over $40,000,000!"
   ]
  },
  {
   "cell_type": "markdown",
   "metadata": {
    "slideshow": {
     "slide_type": "subslide"
    }
   },
   "source": [
    "## Dota is data, and knowledge is power"
   ]
  },
  {
   "cell_type": "markdown",
   "metadata": {
    "cell_style": "split",
    "slideshow": {
     "slide_type": "fragment"
    }
   },
   "source": [
    "<img src=\"https://www.dotabuff.com/assets/pages/app/app_screenshot_2-ee6f3476d62004d200e4cd3b696e7a8d0fc631c8b075a854c319b6b255cfeeee.png\" alt=\"Dotabuff\" style=\"width: 80%;\"/>"
   ]
  },
  {
   "cell_type": "markdown",
   "metadata": {
    "cell_style": "split",
    "slideshow": {
     "slide_type": "fragment"
    }
   },
   "source": [
    "<img src=\"https://dota2freaks.com/wp-content/uploads/sites/10/2020/03/Benchmarks-in-OpenDota-1024x545.png\" alt=\"Opendota\" style=\"width: 90%;\"/>"
   ]
  },
  {
   "cell_type": "markdown",
   "metadata": {
    "slideshow": {
     "slide_type": "fragment"
    }
   },
   "source": [
    "Each Dota match is pretty unique in more than one way, and the fact that there are so many possibilities can be overwhelming, even for experienced players.\n",
    "For this reasons, some services like [Dotabuff](https://www.dotabuff.com/) or [OpenDota](https://www.opendota.com/) have had great success with the player base, since they allow an in-depth analysis of a given game, showing, for example, the most successful builds or the best heroes of the meta."
   ]
  },
  {
   "cell_type": "markdown",
   "metadata": {
    "slideshow": {
     "slide_type": "slide"
    }
   },
   "source": [
    "## The project's goal\n",
    "\n",
    "The goal of this project is to create a toned-down version of the [OpenDota](https://www.opendota.com/) project.\n",
    "This means creating an ETL pipeline that ingests the data from all matches as they end, analyzes the data, and stores it, so that it can be fetched easily later.\n",
    "In addition, a simple LinearRegression algorithm, trained on all the matches, will try to predict the winning team based only on the hero lineup."
   ]
  },
  {
   "cell_type": "markdown",
   "metadata": {
    "slideshow": {
     "slide_type": "subslide"
    }
   },
   "source": [
    "## So, how do we do it?"
   ]
  },
  {
   "cell_type": "markdown",
   "metadata": {
    "cell_style": "split",
    "slideshow": {
     "slide_type": "fragment"
    }
   },
   "source": [
    "In one image:\n",
    "\n",
    "<img src=\"img/Dotingestion2-Pipeline.svg\" alt=\"pipeline\" style=\"height: 90%;\"/>"
   ]
  },
  {
   "cell_type": "markdown",
   "metadata": {
    "cell_style": "split",
    "slideshow": {
     "slide_type": "fragment"
    }
   },
   "source": [
    "Now, let's go step by step..."
   ]
  },
  {
   "cell_type": "markdown",
   "metadata": {
    "cell_style": "center",
    "slideshow": {
     "slide_type": "slide"
    }
   },
   "source": [
    "## Steam Web API <img src=\"https://cdn.freebiesupply.com/images/large/2x/steam-logo-transparent.png\" alt=\"steam\" style=\"height: 50px; float: left;\"/>"
   ]
  },
  {
   "cell_type": "markdown",
   "metadata": {
    "cell_style": "split",
    "slideshow": {
     "slide_type": "fragment"
    }
   },
   "source": [
    "All the matches data is fetched directly from the official Steam Web API.  \n",
    "This is to achieve the **true adventurer experience ®️**.\n",
    "\n",
    "In reality, there are some more refined APIs out there that provide the same data, often already enriched with many useful additional pieces of information. One such API is **OpenDota's**."
   ]
  },
  {
   "cell_type": "markdown",
   "metadata": {
    "cell_style": "split",
    "slideshow": {
     "slide_type": "fragment"
    }
   },
   "source": [
    "But then it would get\n",
    "\n",
    "<img src=\"img/2ez4rtz.jpg\" alt=\"2ez4rtz\" style=\"width: 60%;\"/>\n",
    "\n",
    "Instead, we do it as any of the other APIs have to do: we use the original source."
   ]
  },
  {
   "cell_type": "markdown",
   "metadata": {
    "slideshow": {
     "slide_type": "subslide"
    }
   },
   "source": [
    "## Steam Web API response <img src=\"https://cdn.freebiesupply.com/images/large/2x/steam-logo-transparent.png\" alt=\"steam\" style=\"height: 50px; float: left;\"/>"
   ]
  },
  {
   "cell_type": "markdown",
   "metadata": {
    "cell_style": "split",
    "slideshow": {
     "slide_type": "fragment"
    }
   },
   "source": [
    "<img src=\"img/Dotingestion2-SteamSchema.svg\" alt=\"steam json schema\" style=\"height: 700px;\"/>"
   ]
  },
  {
   "cell_type": "markdown",
   "metadata": {
    "cell_style": "split",
    "slideshow": {
     "slide_type": "fragment"
    }
   },
   "source": [
    "The json response from the Steam Web API has a [large number of fields](https://wiki.teamfortress.com/wiki/WebAPI/GetMatchDetails#Tower_Status).  \n",
    "We are specifically interested in the list of matches it provides. \n",
    "\n",
    "While nowadays they mostly follow this schema, keep in mind that some fields are optional and that, in the past, many fields were not present at all."
   ]
  },
  {
   "cell_type": "markdown",
   "metadata": {
    "slideshow": {
     "slide_type": "subslide"
    }
   },
   "source": [
    "## Steam Web API - go deeper <img src=\"https://cdn.freebiesupply.com/images/large/2x/steam-logo-transparent.png\" alt=\"steam\" style=\"height: 50px; float: left;\"/>"
   ]
  },
  {
   "cell_type": "markdown",
   "metadata": {
    "cell_style": "split",
    "slideshow": {
     "slide_type": "fragment"
    }
   },
   "source": [
    "The _GetMatchHistoryBySequenceNum_ endpoint used for fetching all the matches data requires a *Start_at_match_seq_num* parameter.\n",
    "\n",
    "Its value when initialized depends on the _settings.yaml_ configuration file: \n",
    "- The sequential match id (int) of the first match you want to fetch\n",
    "- 'cassandra', will fetch the last sequential match id in the cassandra database\n",
    "- 'steam', will fetch the most recent sequential match id from the \"hystory_endpoint\"\n",
    "\n",
    "After that, it will be the last match's match_seq_num + 1"
   ]
  },
  {
   "cell_type": "markdown",
   "metadata": {
    "cell_style": "split",
    "slideshow": {
     "slide_type": "fragment"
    }
   },
   "source": [
    "```python\n",
    "# Global variable that holds the match_seq_num to use in the API request\n",
    "match_seq_num = None\n",
    "\n",
    "# Read the configuration file\n",
    "with open(\"settings.yaml\", 'r', encoding='utf-8') as f:\n",
    "                config = yaml.safe_load(f)\n",
    "\n",
    "\n",
    "# Initialize the match_seq_num variable, depending on the value found in the configuration file\n",
    "def get_match_seq_num(config: dict):\n",
    "    if config['match_seq_num'] is None or config['match_seq_num'] == \"steam\":\n",
    "        result = requests.get(config['hystory_endpoint'].format(config['api_key'])).json()\n",
    "        matches = result['result'].get('matches', None)\n",
    "        if matches:\n",
    "            return matches[0]['match_seq_num']\n",
    "    elif config['match_seq_num'] == \"cassandra\":\n",
    "        from cassandra.cluster import Cluster\n",
    "        cluster = Cluster(['cassandra'])\n",
    "        session = cluster.connect(\"dota_ks\")\n",
    "        rows = session.execute('SELECT MAX(match_seq_num) FROM matches LIMIT 1')\n",
    "        for row in rows:\n",
    "            return row[0]\n",
    "    elif isinstance(config['match_seq_num'], int):\n",
    "        return config['match_seq_num']\n",
    "\n",
    "    raise TypeError(\"match_seq_num must be either 'cassandra', 'steam', null or a integer\")\n",
    "```"
   ]
  },
  {
   "cell_type": "markdown",
   "metadata": {
    "slideshow": {
     "slide_type": "subslide"
    }
   },
   "source": [
    "## Steam Web API - notes <img src=\"https://cdn.freebiesupply.com/images/large/2x/steam-logo-transparent.png\" alt=\"steam\" style=\"height: 50px; float: left;\"/>"
   ]
  },
  {
   "cell_type": "markdown",
   "metadata": {
    "slideshow": {
     "slide_type": "fragment"
    }
   },
   "source": [
    "- the idea is that it should be \"as stupid as possible\""
   ]
  },
  {
   "cell_type": "markdown",
   "metadata": {
    "slideshow": {
     "slide_type": "fragment"
    }
   },
   "source": [
    "- it could be replaced with a bash script, although python is more convenient"
   ]
  },
  {
   "cell_type": "markdown",
   "metadata": {
    "slideshow": {
     "slide_type": "slide"
    }
   },
   "source": [
    "## Kafka <img src=\"https://upload.wikimedia.org/wikipedia/commons/thumb/0/05/Apache_kafka.svg/295px-Apache_kafka.svg.png\" alt=\"kafka\" style=\"height: 50px; float: left; padding-right: 10px\"/>"
   ]
  },
  {
   "cell_type": "markdown",
   "metadata": {
    "cell_style": "split",
    "slideshow": {
     "slide_type": "fragment"
    }
   },
   "source": [
    "<img src=\"img/Dotingestion2-Pipeline.svg\" alt=\"pipeline\" style=\"height: 100%;\"/>"
   ]
  },
  {
   "cell_type": "markdown",
   "metadata": {
    "cell_style": "split",
    "slideshow": {
     "slide_type": "fragment"
    }
   },
   "source": [
    "All the data fetched from the Steam Web API is then submitted to Kafka, which will act as the \"core\" of the pipeline.  \n",
    "All the data will pass through the Kafka cluster, and the Kafka topics will ensure that each kind of data reaches the intended consumer."
   ]
  },
  {
   "cell_type": "markdown",
   "metadata": {
    "cell_style": "split",
    "slideshow": {
     "slide_type": "fragment"
    }
   },
   "source": [
    "| Index | Service | From Kafka | To Kafka |\n",
    "| - | - | - | - |\n",
    "| 1 | Steam Web API | / | dota_raw |\n",
    "| 2 | Kafka Streaming | dota_raw | dota_single - dota_lineup |\n",
    "| 3 | Cassandra | dota_single | / |\n",
    "| 4 | Dotingestio2 API | dota_request | dota_response |\n",
    "| 5 | Spark | dota_lineup - dota_request | dota_response |\n",
    "| 6 | Elasticsearch | dota_single | / |"
   ]
  },
  {
   "cell_type": "markdown",
   "metadata": {
    "slideshow": {
     "slide_type": "subslide"
    }
   },
   "source": [
    "## Kafka - notes<img src=\"https://upload.wikimedia.org/wikipedia/commons/thumb/0/05/Apache_kafka.svg/295px-Apache_kafka.svg.png\" alt=\"kafka\" style=\"height: 50px; float: left; padding-right: 10px\"/>"
   ]
  },
  {
   "cell_type": "markdown",
   "metadata": {
    "slideshow": {
     "slide_type": "fragment"
    }
   },
   "source": [
    "- right now there is only one node, but that number could seamlessly go up"
   ]
  },
  {
   "cell_type": "markdown",
   "metadata": {
    "slideshow": {
     "slide_type": "fragment"
    }
   },
   "source": [
    "- zookeeper is there, for now..."
   ]
  },
  {
   "cell_type": "markdown",
   "metadata": {
    "slideshow": {
     "slide_type": "slide"
    }
   },
   "source": [
    "## Kafka Streaming <img src=\"https://upload.wikimedia.org/wikipedia/commons/thumb/0/05/Apache_kafka.svg/295px-Apache_kafka.svg.png\" alt=\"kafka\" style=\"height: 50px; float: left; padding-right: 10px\"/>"
   ]
  },
  {
   "cell_type": "markdown",
   "metadata": {
    "slideshow": {
     "slide_type": "fragment"
    }
   },
   "source": [
    "Right now, in the *dota_raw* topic we have the raw response from the Steam Web API. Some refining is in order.  \n",
    "This is the task of the Kafka Streaming node.\n",
    "\n",
    "It actually outputs two streams:"
   ]
  },
  {
   "cell_type": "markdown",
   "metadata": {
    "slideshow": {
     "slide_type": "fragment"
    }
   },
   "source": [
    "- **dota_single**\n",
    "  -  cleans the raw input data, splits it by match and enriches each match with some useful data like the version of the game, the location, and the timestamp"
   ]
  },
  {
   "cell_type": "markdown",
   "metadata": {
    "slideshow": {
     "slide_type": "fragment"
    }
   },
   "source": [
    "- **dota_lineup**\n",
    "  - for each match, creates a stream with messages containing the lineup of both teams, the winning team, and the match_seq_num"
   ]
  },
  {
   "cell_type": "markdown",
   "metadata": {
    "slideshow": {
     "slide_type": "subslide"
    }
   },
   "source": [
    "## Kafka Streaming - go deeper <img src=\"https://upload.wikimedia.org/wikipedia/commons/thumb/0/05/Apache_kafka.svg/295px-Apache_kafka.svg.png\" alt=\"kafka\" style=\"height: 50px; float: left; padding-right: 10px\"/>"
   ]
  },
  {
   "cell_type": "markdown",
   "metadata": {
    "cell_style": "split",
    "slideshow": {
     "slide_type": "fragment"
    }
   },
   "source": [
    "The stream code is just a standard java application.\n",
    "\n",
    "The use of the Kafka library closely resembles the classic java streams sintax.\n",
    "\n",
    "It is very easy to split the stream and create more than one output topic from an input stream."
   ]
  },
  {
   "cell_type": "markdown",
   "metadata": {
    "cell_style": "split",
    "slideshow": {
     "slide_type": "fragment"
    }
   },
   "source": [
    "```java\n",
    "static void createStream(final StreamsBuilder builder) {\n",
    "    final Serde<String> stringSerde = Serdes.String();\n",
    "\n",
    "    final KStream<String, String> matches_raw = builder.stream(inputTopic, Consumed.with(stringSerde, stringSerde));\n",
    "\n",
    "    final KStream<String, JSONObject> matches_single = matches_raw.flatMapValues(MatchesRefiner::splitMatches)\n",
    "    .filter(MatchesRefiner::isValidMatch);\n",
    "\n",
    "    // dota_single topic\n",
    "    matches_single.flatMapValues(MatchesRefiner::enrichMatch).flatMapValues(MatchesRefiner::jsonToString)\n",
    "    .to(outputTopicMatch, Produced.with(stringSerde, stringSerde));\n",
    "\n",
    "    // dota_lineup topic\n",
    "    matches_single.flatMapValues(MatchesRefiner::createLineup).flatMapValues(MatchesRefiner::jsonToString)\n",
    "    .to(outputTopicLineup, Produced.with(stringSerde, stringSerde));\n",
    "}\n",
    "```"
   ]
  },
  {
   "cell_type": "markdown",
   "metadata": {
    "slideshow": {
     "slide_type": "subslide"
    }
   },
   "source": [
    "## Kafka Streaming - notes <img src=\"https://upload.wikimedia.org/wikipedia/commons/thumb/0/05/Apache_kafka.svg/295px-Apache_kafka.svg.png\" alt=\"kafka\" style=\"height: 50px; float: left; padding-right: 10px\"/>"
   ]
  },
  {
   "cell_type": "markdown",
   "metadata": {
    "slideshow": {
     "slide_type": "fragment"
    }
   },
   "source": [
    "- it uses the standard _\"org.apache.kafka\"_ library for streaming, but is a simple java application"
   ]
  },
  {
   "cell_type": "markdown",
   "metadata": {
    "slideshow": {
     "slide_type": "fragment"
    }
   },
   "source": [
    "- its enrichment task is very simple, so using something like Spark at this step would probably be an overkill"
   ]
  },
  {
   "cell_type": "markdown",
   "metadata": {
    "slideshow": {
     "slide_type": "fragment"
    }
   },
   "source": [
    "- to make the service really interesting, the match replay associated with each match would need to be analyzed.  \n",
    "  This could be done at this step, but it is [not as simple](https://github.com/odota/core/issues/703) as it may seem..."
   ]
  },
  {
   "cell_type": "markdown",
   "metadata": {
    "slideshow": {
     "slide_type": "slide"
    }
   },
   "source": [
    "## Cassandra <img src=\"https://upload.wikimedia.org/wikipedia/commons/thumb/5/5e/Cassandra_logo.svg/1024px-Cassandra_logo.svg.png\" alt=\"kafka\" style=\"height: 50px; float: left; padding-right: 10px\"/>"
   ]
  },
  {
   "cell_type": "markdown",
   "metadata": {
    "cell_style": "split",
    "slideshow": {
     "slide_type": "fragment"
    }
   },
   "source": [
    "All this data has to be stored somewhere, and a possible \"where\" is Cassandra.  \n",
    "Cassandra is a distributed, wide-column, NoSQL database management system designed to handle large amounts of data."
   ]
  },
  {
   "cell_type": "markdown",
   "metadata": {
    "cell_style": "split",
    "slideshow": {
     "slide_type": "fragment"
    }
   },
   "source": [
    "<img src=\"img/Dotingestion2-CassandraMin.svg\" alt=\"Kafka\" style=\"height: 600px;\"/>"
   ]
  },
  {
   "cell_type": "markdown",
   "metadata": {
    "slideshow": {
     "slide_type": "subslide"
    }
   },
   "source": [
    "## Cassandra - notes<img src=\"https://upload.wikimedia.org/wikipedia/commons/thumb/5/5e/Cassandra_logo.svg/1024px-Cassandra_logo.svg.png\" alt=\"kafka\" style=\"height: 50px; float: left; padding-right: 10px\"/>"
   ]
  },
  {
   "cell_type": "markdown",
   "metadata": {
    "slideshow": {
     "slide_type": "fragment"
    }
   },
   "source": [
    "- it is the backup database of the whole system. It means that, if something goes wrong, it should be always possible to recover from the data stored there"
   ]
  },
  {
   "cell_type": "markdown",
   "metadata": {
    "slideshow": {
     "slide_type": "fragment"
    }
   },
   "source": [
    "- it acts as a simple data warehouse"
   ]
  },
  {
   "cell_type": "markdown",
   "metadata": {
    "slideshow": {
     "slide_type": "fragment"
    }
   },
   "source": [
    "- the connection with Kafka is through a Kafka-connect node"
   ]
  },
  {
   "cell_type": "markdown",
   "metadata": {
    "slideshow": {
     "slide_type": "fragment"
    }
   },
   "source": [
    "- while a fully UDT version of the database schema is possible, the high variance of the field make so that is more convenient to use a text field to store the nested json"
   ]
  },
  {
   "cell_type": "markdown",
   "metadata": {
    "slideshow": {
     "slide_type": "fragment"
    }
   },
   "source": [
    "- using the match\\_seq\\_num as a clustering column means that it can be used to order the results in a select query"
   ]
  },
  {
   "cell_type": "markdown",
   "metadata": {
    "slideshow": {
     "slide_type": "slide"
    }
   },
   "source": [
    "## Spark <img src=\"data:image/png;base64,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\" alt=\"kafka\" style=\"height: 50px; float: left; padding-right: 10px\"/>"
   ]
  },
  {
   "cell_type": "markdown",
   "metadata": {
    "cell_style": "center",
    "slideshow": {
     "slide_type": "fragment"
    }
   },
   "source": [
    "Until now, the match enrichment was limited to a few fields added and some filtering.  \n",
    "Spark adds Machine Learning to the table.\n",
    "\n",
    "The model is trained to \"guess\" the winning team from the lineup of both teams."
   ]
  },
  {
   "cell_type": "markdown",
   "metadata": {
    "slideshow": {
     "slide_type": "fragment"
    }
   },
   "source": [
    "The accuracy, as you may see in the detailed [SparkModel](SparkModel.ipynb) notebook, is around 57%.  \n",
    "It seems that the optimal results one could expect are around 60% ([source](https://www.reddit.com/r/DotA2/comments/gf1zgx/i_used_deep_learning_to_predict_dota_2_win/))\n",
    "\n",
    "While the result may seem very low, it makes sense. \n",
    "In most games, the picks are very balanced, meaning that neither team has an advantage, and the outcome depends purely on the skill of the players involved.\n",
    "A high prediction rate would indicate that most games are won at the pick stage, which wouldn't be very fun."
   ]
  },
  {
   "cell_type": "markdown",
   "metadata": {
    "slideshow": {
     "slide_type": "subslide"
    }
   },
   "source": [
    "## Spark <img src=\"data:image/png;base64,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\" alt=\"kafka\" style=\"height: 50px; float: left; padding-right: 10px\"/>"
   ]
  },
  {
   "cell_type": "markdown",
   "metadata": {
    "slideshow": {
     "slide_type": "fragment"
    }
   },
   "source": [
    "The data enrichment Spark provides is used to enrich the data already stored in elasticsearch, as well as providing a backend to the user requests for a specific lineup coming from the Dotingestion2 API."
   ]
  },
  {
   "cell_type": "markdown",
   "metadata": {
    "slideshow": {
     "slide_type": "fragment"
    }
   },
   "source": [
    "A single Spark application can handle both streams, as long as the right settings are put in place."
   ]
  },
  {
   "cell_type": "markdown",
   "metadata": {
    "slideshow": {
     "slide_type": "subslide"
    }
   },
   "source": [
    "## Spark - go deeper <img src=\"data:image/png;base64,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\" alt=\"kafka\" style=\"height: 50px; float: left; padding-right: 10px\"/>"
   ]
  },
  {
   "cell_type": "markdown",
   "metadata": {
    "cell_style": "center",
    "slideshow": {
     "slide_type": "fragment"
    }
   },
   "source": [
    "The preprocessing part is very similar to the one described in detail in the [SparkModel](SparkModel.ipynb) notebook, so only the parts related to the structured streaming. The same is true for the _\"api\"_ part."
   ]
  },
  {
   "cell_type": "markdown",
   "metadata": {
    "cell_style": "split",
    "slideshow": {
     "slide_type": "fragment"
    }
   },
   "source": [
    "This is the first part of every structured steam: df is a data frame that will keep growing as long as new messages come through Kafka"
   ]
  },
  {
   "cell_type": "markdown",
   "metadata": {
    "cell_style": "split",
    "slideshow": {
     "slide_type": "fragment"
    }
   },
   "source": [
    "```python\n",
    "df = spark \\\n",
    "    .readStream \\\n",
    "    .format(\"kafka\") \\\n",
    "    .option(\"kafka.bootstrap.servers\", kafkaServer) \\\n",
    "    .option(\"subscribe\", topic) \\\n",
    "    .option(\"startingOffsets\",\"earliest\") \\\n",
    "    .load()\n",
    "```"
   ]
  },
  {
   "cell_type": "markdown",
   "metadata": {
    "slideshow": {
     "slide_type": "subslide"
    }
   },
   "source": [
    "## Spark - go deeper <img src=\"data:image/png;base64,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\" alt=\"kafka\" style=\"height: 50px; float: left; padding-right: 10px\"/>"
   ]
  },
  {
   "cell_type": "markdown",
   "metadata": {
    "cell_style": "split",
    "slideshow": {
     "slide_type": "fragment"
    }
   },
   "source": [
    "The process_data function combines all the convert functions and finally applies the ml model, exactly as one would do in a non-streaming scenario.\n",
    "\n",
    "The only catch is that some **VectorSizeHint** stages had to be used in the pipeline to make this so seamless."
   ]
  },
  {
   "cell_type": "markdown",
   "metadata": {
    "cell_style": "split",
    "slideshow": {
     "slide_type": "fragment"
    }
   },
   "source": [
    "```python\n",
    "def process_data(df: DataFrame, ml_model: PipelineModel = model) -> DataFrame:\n",
    "    df = convert_types_for_ml(df)\n",
    "    df = convert_heroes_to_lineup(df)\n",
    "    df = ml_model.transform(df)\n",
    "    df = convert_types_for_es(df)\n",
    "\n",
    "    return df.select(\"probability_arr\", \"radiant_win_prediction\", \"match_seq_num\")\n",
    "\n",
    "df = process_data(df)\n",
    "```"
   ]
  },
  {
   "cell_type": "markdown",
   "metadata": {
    "slideshow": {
     "slide_type": "subslide"
    }
   },
   "source": [
    "## Spark - go deeper <img src=\"data:image/png;base64,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\" alt=\"kafka\" style=\"height: 50px; float: left; padding-right: 10px\"/>"
   ]
  },
  {
   "cell_type": "markdown",
   "metadata": {
    "cell_style": "split",
    "slideshow": {
     "slide_type": "fragment"
    }
   },
   "source": [
    "Finally, write the stream to elasticsearch"
   ]
  },
  {
   "cell_type": "markdown",
   "metadata": {
    "cell_style": "split",
    "slideshow": {
     "slide_type": "fragment"
    }
   },
   "source": [
    "```python\n",
    "# Write the stream to elasticsearch\n",
    "query = df.writeStream \\\n",
    "          .option(\"checkpointLocation\", \"./checkpoints\") \\\n",
    "          .format(\"es\") \\\n",
    "          .start(elastic_index)\n",
    "```"
   ]
  },
  {
   "cell_type": "markdown",
   "metadata": {
    "slideshow": {
     "slide_type": "subslide"
    }
   },
   "source": [
    "## Spark - notes<img src=\"data:image/png;base64,iVBORw0KGgoAAAANSUhEUgAAATgAAACiCAMAAADiKyHJAAAA1VBMVEX///88Oj7iWhw5NzsmIykiHyU2NDgsKS7gSwAoJSsqJyw0MTYmJCnhUQDhTwAxLjP4+PjiVhNvbnDf3t+/vr+OjY/hVQ/r6+vV1dXu7u709PR5eHo/PUGFhIZlZGa2tbZdW16Uk5WdnJ5SUFPGxsfnfVbzxLXZ2dlGREhWVViioaNsa22ura65ubqZmJqIh4n1zsHmckXjYCX54NfsnYLwsZ3upY3649zyvKv31cr88u7qjm7wtKDohmLmdUrlbDvkZS8UDxjohGDrlnrfQAAAAAoXExv0Xyg7AAAW0klEQVR4nO1dCVviSBMmdg5IgAQ5BbmjBMRjnPFinNEZd/z/P2k7d1V358ALFd/ne751Q47uSnUdb1VnC4UtxOr24Pz81/Wmh/HhcFus1HZ2atXK4aZH8rHwUNwJULzc9Fg+Ei4juVHJXWx6NB8HN0BuVHJnmx7Ph0FrB6Gy2vSAPgguqlhwrb+bHtEHQWWHwddizYXrKiu4nZ1Nj+lD4KDGya3yFZNkwxIo3E7xatPDev+4EQmu9nvTw3r/uOB8g6dyX6lXFn62RILbqWx6XO8ed7xv8AT3Y9MDe+ewhCv1yz9k4qqYILjat00P7X3jDDhVbO2KX6xmGi7jpdp6uMdmztr04N4z/sZqVj37jtZt5SHz6tXZ5cFOpfb78vsbDPV94Ry5AxybFNPFcXN5V6y6jPtOrVI82DL1XAETV6T/inxs7S7xuu8XBxVfaKF63r/doN8DAPnriQlTJVWhf7i6/lUrVtjwb8sCPyCo1k/3AI6HOf+wOnw4L1aFycZ25Ro/YhlUbt0Daf7hzDVq4gzNXelbxbgDBaveeEcekJmL8ofvF7+LVW59bq/gqvzEef9wdf23yBs1FtWNTuSNAROucOKHyD+0Dh5qKesTiPhgozN5Y4CEK574N6RbtRxC8+S+VQweYDHjcCIx709VuPsNTuPtATIFoDE/kqimFBRvNjiNtwdMuEB+lXN1AlSz89pPBegbQDRxuO5ibW0ZeQet2Tn84Xda7EFT+so3fGRnq2I4FHn4CVeIZF64Uq3+vrhhaZRto9kBi1nBbXFC/9CqFu8ub9z0FffpbJljoPgLEi6m0YYVHBXa+cNhsCLPcEPd7duPfMMA0mEzTegfXKP28zpejpgI2DaHWrAOYYrQYn8OfqRGrXhwgahgzHZWtirVKqyuD4pVIDe+GOj6B9+osb/cQ5e7VRnD1cU3JDVX4Xj+9sd/9w9ngjDjADnU1tYEIt8v7wUUkYgkF4vkATvULSlv3fw4FxNr1bwRxS12qFtBiZw91IpJWWhe+hYHItUt6Nw8+1lNoyPPs+/gAmcUlZ/ZV3xorA7/ZpC4OenbVQsu89bnbtv0Ao8Mnqj1X759SDgQOf/MxfuzAzbw4JStUjz/kc81HKDIt/qJA5Gz+2Km1O5zN8z82JbMfnWQLrZatfjtIj8hdI0Dkc/bPXdVSbNsNJv6fb3OYsNbDKuft1NklWLbqNT+Hq5nophA5BPvk/uWpG+tauXn2rvcVjsoEEnu//rwOBOS39QZ7OR0oRh38DXUap/YoQr2fazlQjF+iTtxPiPOebndreFCMS5xIPKpt7PyxZbKk0sDuMxafasSQ7vdxrmJ1aXg0hWLO8+9ttOpM/cS3XWvHSA+k9e4nUrx59OCVtSl+WYbR8Z/5D9NdERVXJT6XXR0rsj/GuiINSGKXlJ0Ozpi/1P+BX8+Kv/i46oiu1CU+OIHkVNtFc9vn2DXb/HOzPVv8BTsKZKkDuCRrix5MFWoYDY9ap7A82zNJO552nF0aGGqI/+vuiyV9sLDlubfMfzRhdirumr3a321QxHhGy3VviFJRIJHOiWJKEqZYDlNqZDUI3BgqdAzZEMrKZ3oWM8wAuW1NUKiw1SKRKNQTsH1CbsCPbW7WFPtmF7D9S5+GtoKFZtUBsanMNSIY3XrDiGj+GCDShMJ2KYXlib0utk0vnhKtKH/18QEatzQyH7BooBP/p7SOLO22iE+qfoW38LpGWSwLwEzVSg0DbVH/zE2yDQ+uE/UAZH0aPUVqBTNwC9E8qBLshSoX081xtG5Y1Pd5R99kdZytKba4YX/Bl90mSmS3BkQcwGOjVTvX49UsDKXmqS0qeA64EC5U2BAl2Ro/gkBpu9IRQ8I8ZDerEXVLn9Ahtpbn/GRiLq9XIzHJ8tGPf28gUrV6tQweuCYRMzhXnuiSdoyOqYS45QuRDM6MifI4PloaNQMDjyoUnkWHTckMh2NRtNj5vyL/9LZuFZx5zKn8jCfX3qSys0mI0XWNNOFJiu7dvKp1FXKdmFpEic+1nbdpyybEjGiYxNTetxzTX8/OGDp0JmGODGpA/EhSXq0gvfK1P9QKJyK3pyLPvEAJXCXN5lAXydprd8uYi0d2Y8SQqg6WSadPfUcQIdKIbbbtu5dRkwj0tauJrkWa2FGVq9dBss2wpEqGZoH6kjid0Hv7znVf13uisJtK5Vd8tnIPLUD7GvWzlYn7phZEM2ZCc92XeV8d5da/XK8pBempJqmMZ3Ew21S9Rvs7o6IJAdHqFpqvCY7xGgOXRwPCHAHS41MbRfCQVzfJfHAxQNvxVm7DeGFDH7BiLr1K88lEWzJ5KTmi04RGWfqKulPqkpQENt3FySKHKh6hefJoSMtSdGyjdDVoxeA3MGpwZ8LcXMgqkO3gq86NtTHDEPt4+rpKtdXeG0LIQuGTj2jt4Q0VQKxA3QBPnpGsAKJpIUvf6RKJV+N4yiORs7hktegQo64O7K4eiiySX/xl6du3V2ZlAVLXABEVK2xj6Y7TVA3H1qPu8KgFu7YW1hqHK1aJmu96grVLu88h0TJRINqobast+1efF83cvb/onmcHKuJLBkndqPRSPFShdVFBRq7SsWPRIY6TWzMfAJYYZXLG0G3iZomN+rlTpkrqDFTZuFfWni0XoZhrgtq8k0r+Cu2XAPTc756OV6SzWhJUt2LZ+u6aVdjFf7VIRxGtcJa0feK7VHJNRLznCJAfcF5SZI9I3mZBlCG6IquTIwgFGuUiRKuuEZJVdF5nUeiTfw/aQYQycMalYhnPWPrODe0QIpLTY1na8vEgy60sxCBsauc+9qyUDxdSDeQAKsnfErTkjL0zbNzyMhOnGnobOv0z3B5LhwHa8budDoNLNexM92P7c1wLiuK1AeZanSXpuM0wXkjD1M+fuFAjV216Ff26vOAUzEneSTg4hKpXK6CzcjIlptE9l+4mcJq5zPb62B16/vDEzlUBUGknTQeXHnI0Rs31nLIjSq9INV+n5g58YwEkTY1BsLL0PaGWnZrWEfJJTdJ+jPMvNe7QBMGVnKbP6Hvuu+ruwu2JoYZzcwuiH3GMRBT0zWTs3pEGWfd6X2g8wiHbfIG5qTssTBFd38Dqvhfr8VonuAAjsjTScO2FwMFi041cljnd4EhtDxkn/t9qfhq6JLI7o6aHzeRbM/XYDRd8gHAcMJAsz6AA9AHL2/JXwlIE3BBxEWDWiYvMQlzhUq1ehD4FEyiV1O9IVY4Az5nIsfLNLdT3zx6cKkYTeZXz6J7qTDYeO72Tnir9i4/o6lCCwfpbopFKXj6h1mmLuZwRix5XPcCb496PcNsnrvP5uIH3m+Zwmh20Epl+ey+6S/TD9UOK0HBMfTVns82egrC71qtMT13aSq3gCuVt6TU4yaQSu8WXawKiEu09oNl7LnVDP54x/sCWBKQQeAtaUcx1NzL1HqOYlrtjn18fNzoCOKutVBHgishnzYNZ+sxf9/SaxY7qV8bcVJMnItenmXatie9qaHpuqY5vYm9tvzaw76jyyWPtdNlfdpc/xYxbBSNEPjTIEotPWZQ2EeB7V5y9QFnW3yYnT2Dztgp6WboY4hqlvTB8RoTby+msobYGWLoZj8Xb9u2lyfjpo9x0zdnS2R8oCr04l+81P828wMkKd/2xlGcqPKbiu5iv8xTUqpmjnOGfZ2jsimitAxlkCW6vYUja6ZphFB8wTUhY6ECrqapMxMVfgcdC+4+8ekM75vNeqGhN3XhrN1XquW5U2ekJBJaqsJypwhWs8Q8O6hYHME7ggaWBdQRj2xeZX5/JIXPnDITV9IYagYn5TQ6Kqk4FmNvN1ls3qz3k+/QMDmqX/HtA7LaWsRLHCMqw/Q0MWtbDvPVDYQeO/RSXq9mq6lVisTiWIRluti8OyTxMad8ZSno6bHQy4zaWmwkN2PkHVy5e6nTPESKV12wsyckn2FPK4pFw04xmdagnHk91SKx7AcCBjHojmqj24a09UyGR43YZawOf6Vs2Ez5MCa+owuVj0l4tJ0MdfNhjpJuUCd5WGc6c1GSfCR6eOAHOjo8GHRStJE5VB2sG4kbq1M3Jqmc4hhcGMyho+UoUqRJzi5l66sPhWdrm0LGOiguHKMwzi84dvex3HiPf3Vxxxu8ampBf8y/PTOjEldo5Fimqfdq5CWdKbhmG1t8ceAHJohUGnnHpvA1E2mvIMLq+gAv2mL6Duk2t1bpGNJLasdrTFuSBfz+OnKTiIkVxCLitxYUF/rQBPi1QVSLIkay91ud/awUK+4+6VqrWsuq1vQFBqOUxpLbj/wF7ogStFDhBtoR3kBVDYO3G+7scSvdJMG6BlnPiCOVdlEqoWXE1d8vft5XKncP2XXVrmgg5ZPE82e8uhBTV0r7jqqU+VIFahb3INBxVVOMQa/f781lQSKBYksrySsFrVDI57gp6SkyekquVC4fhAtHTorButzEDNk5sX27UV8OFM5bykxMzRaHJFPePY7UcjY2uAgJNC5i4y95fVAeDJ8S6yKnWuoAGtsF3534HIgWq8ibeRgxOmWU+ii+r/dYz8FwLj3maYY2YbzcQmbuUAJF5V30fCJPd3s+fOtSx3Kyhkgr1smL8mAuiqkUYQl8gl84UXq8CZOY28nwNTdk5gZ9Pjio7+O3A0WP7q1O2aTMRhpHbCzHF5ZbweJWj/cYQSsjfqGSaoiGYo2wUsHmagtzKQlFxy4zoLhvBRlIAX+4xI9G/yZWhWehLWhhFb6gOVIFc55AHjHNKKBF7RQX1aYJN2jr+AZR/oA0SuZJgHFyQpJkfJ4FgasUDaxRQtPhW+4DMCpcit5AG+fayb1rQ7zkItWC1WbkNAJwpEUst9cpnQjDcaIzBgzJI6AYhMD9KDEr1kMso2DiEeZY9KFmQppSFWQlTlJOIycHWM/DUCg5gpbSMVSD9LYvLKEw+8UKp6UxWDYbV/iANKVow01STmKyhemXw0KQe0kqWkyI9VRSeUpmTQZHUWIsp9vqfSEhCY8KWt/2EgQncCMvh3FJ8EQNvClkCLNe4QAaGz1QXBjL8LVIZjhQZyPvAN+uoPVtlkTy6S8diUD0RXQNiLVRGUTP4DtRXBDkkTZ8NVnJDyLWwhYQFI0IWt8aST2SRHvNbgQRQQhcF0zBzSxbi+rCwaYGyFxkKVzBgvodNaRDaSr8RRyhHd8hm2V8BkTNwHoY/swy3jYDOO/AtiONzVw70EGGgoOZqqD1DZNKGKXXCOMiTPkwKBoffJsc5SG4FZi3LyWUdmTv24AhWbhUIack2LmJLSsD+QWJEQ5dh39yGL7C9Dprl1ABz9vXOBi85ih9nwLtCS0DjHIMQd0VB96YInxVz1poC2oQQZwJl04pq2aKIy6/Zwg6F+GmZwzoVsMXBWlK0cvDcWIDS+4VY7kCl8a7b8rfK2PBH3L4KChn3yLCdSTYdskC9oqG2+eg7RfcAnOk8p6No5MXZ0cQ+OTLNw4zEEuI7DILeBs/jltTZaHGBSEb8rRl3mZ1UChKve4uchbEeNUOySUbRPqmHYZIOcwFDEWDZis4iWyvjDxkcDqKcQT7KVHDuaR6u7MhjERa4kXQY3y6n+9Ahwa/KZKAJef/LKgOOQQHnVGQeqAEVucv4RvOj7HlKb9qTMJWBXxDDr1kjr2MIy4bR+ssx1KF8UwQvMC3IdJ63HDuxX5HWAv4mttLwhbRiHAe2Tauzce/SHA5nIPANIwzSCW+NljYw4s1V4PH04FZLX8E6JCe1TeIFo1PjlhwCpkpW6EL5BxGRCiUFNwBBaGBJx5i7kJ7oY1VYjeDCWjPxnWRschKmFD1M5w27KPPdi8wLgqFBLVe41vAkE5H1oDJJl6mQjgUVWRY7+RJaYZeXNa+4ybiRgIpI1I30ztAexEKCW2S4t8d03Ae9IgwHF3ePrY0NBxdvOax4LyvdTGETXoEjJi7iF9J3yvEAjqCQEhIBGVe8qjhPP5QwBKb7Gfvu+3M3V6rsmjRIQvltzoyhE1qymThzS1hCIBvoYibhoRjCNQT0ZSC/ZS44Tzmw5giuvysfbf1gV8vF/IciCP3TdQpE9yVU+aNiojxVgMc16cQcpabE0D9DISEYnCJvy6p4bzNhPQCZc2Ldi9qwBWoHGJqg3XCEjYpxBJm9fQ45sRLRk/akWg5ruCARQyjnyxiCzWcg6/IsIv1yTFJ91SO58ZXJ/FKk/wEj2+VSWg/3Jvi/BDcnil6JlSI684f94kwZBv5v/QzSCW0UBB5ggvpkvakWqF1UkJT4ySAn+JbcUF3leDrNwV3OTHSASkCE1hLws3qy7Lqxn0ojAt8+CC9NojHiLxunWEu0kt0CRixBQ0NvTy248VPUkSNm+aU4yfaR4w5wRwYuwlHm7N36Mx1X8Fg+BMKCcblGh9H4bgDE74LpllIYCEzwXaY0UEM4m/HnjBdWsHb7ujsRZLXaoRGV++zWxcYa7JkH02UXfDuu8NpmQSPhKFFICQLjqHEx7F4jBpObpidMEZWn7MIvAzUUr9Dn9O1TzV2SQbNB7y0/efLo+XMs4Hd2WIus6USwhbreX5ZLe83jzv1eqcxnpf83h9PwaAjCISEa4O8V0ehJqtT7GLNKIcLwUYWngR0jZCSzv0S+sSkzluJmGVt33H2NXZrlQuOcm0IVjwxNL1c1rXoeq9CDwcZCAmFM2qBAxojx3wxnX3pDRhi1PPsaQmGFy61lLqb/wlL0XGB2zxKu08AT8GgIwiI22EGlSpoOIdg+nFyFOo4pBXRMKKMciSUTMbFguyim/3dMP+hYJqhkGAuIaqSYVKJixLZVjZt/S9b5P4oULzUcosaXCwMlnI82+0fhxxUWEBFhVZBJIPbdHgbxn5D6gkxCUuOJ80gUhkrqScjGY8JLHXm7hAvT4COIBQSZFcEtUFcXxB9jIpZrE+ISfieexFAL54ojEufPdukH0PYiQfgrULoCEIhwYRGRCrh2qDA9rOLNQr928PjxvGwMPO2xKd+VDJhPxQC7P1kY/4smE5Kv0HGVjAvVYGOIBASolIF/Qx4jMJKILtxLWQj24uxslwUmu73ymb/RimCKywyFwwKdBBBl7XDl4a1qbvCC7PUPZeegiFSyRcSCgZkXi74Y1TiNlm209UMo8G2y941m/SqfjNVcIWTdMlpWGXgq9Jn41SVIbqTxU5bPXYPCICnYNAKB0KCGiWqFiF1EnXkFHjXFHFbdbfY2BwOZoX9TkYJb5kye4P9CBV0aEq3MJvqSRcTTc3DE9pOWXwHoj26WjDiSSVUGxRMLhfBfMqslvDrDb7glvZpY5EluELdEc+emEqfzWdgpuf18zWcsiBCoZdyH8FPFN1c4VyUairO0tMvmsmEKAcTaWpqBBGnlUwqQbChetAYGgiuYEy7dnbReCmV2NkTo0wmfBoINDwMR+1dWYfRLM2clP3xOj1o9ZOpopuG6n2uVjXMkjJahNc3AIKFPz7ajXAk6lSSyzH+JbnGzp8Sguyzy/U/9P9OF4XxoGDnoTntnimDoevydCyyT5Aciylpy27OTaWkU5QVc94frp/97dmL3mDqONPRUXPZeV75qY6QeK92x8NsNvP/8P8LV5Y77Xq70KX/yxkXz5ZNd+jOdECHnlBnrsOoCsfse7OObXfqGZWXbQUkbASF4C8kQVDj/EIenPKtal/IA1h3e9WdFp8NkBwj2ad/IQSMRkabHswHAiLH8v73Eb6A6245Nih8IcSQr3F+IQ8mfI3zC3kACRtBIfgLSYB1t9fdnPLJAKokCZT0F0SAzdwJlPQXRKg/Rh8pNvRX3br4yVA/bUY43V6n+j9cybTPtiA07AAAAABJRU5ErkJggg==\" alt=\"kafka\" style=\"height: 50px; float: left; padding-right: 10px\"/>"
   ]
  },
  {
   "cell_type": "markdown",
   "metadata": {
    "slideshow": {
     "slide_type": "fragment"
    }
   },
   "source": [
    "- spark's role is to enrich the data already present in elasticsearch with the win prediction and its probability"
   ]
  },
  {
   "cell_type": "markdown",
   "metadata": {
    "slideshow": {
     "slide_type": "fragment"
    }
   },
   "source": [
    "- the model only needs the 10 hero's id played by the two teams to estimate the winner"
   ]
  },
  {
   "cell_type": "markdown",
   "metadata": {
    "slideshow": {
     "slide_type": "slide"
    }
   },
   "source": [
    "## Elasticsearch <img src=\"https://4.bp.blogspot.com/-SeZlk6ey3Aw/XJa096EkL8I/AAAAAAAAJaE/DJQojQEZoJ8JN9bJciFeUj57xOKldzD2ACK4BGAYYCw/s1600/logo%2Belastic%2Bsearch%2Bicon.png\" alt=\"elasticsearch\" style=\"height: 30px; float: left; padding-right: 10px\"/>"
   ]
  },
  {
   "cell_type": "markdown",
   "metadata": {
    "slideshow": {
     "slide_type": "fragment"
    }
   },
   "source": [
    "Thanks to a Kafka-connect node, the **dota_single** topic goes directly in the index matches.  \n",
    "Then, the same match is enriched with the win prediction from Spark."
   ]
  },
  {
   "cell_type": "markdown",
   "metadata": {
    "slideshow": {
     "slide_type": "subslide"
    }
   },
   "source": [
    "## Elasticsearch - notes <img src=\"https://4.bp.blogspot.com/-SeZlk6ey3Aw/XJa096EkL8I/AAAAAAAAJaE/DJQojQEZoJ8JN9bJciFeUj57xOKldzD2ACK4BGAYYCw/s1600/logo%2Belastic%2Bsearch%2Bicon.png\" alt=\"elasticsearch\" style=\"height: 30px; float: left; padding-right: 10px\"/>"
   ]
  },
  {
   "cell_type": "markdown",
   "metadata": {
    "slideshow": {
     "slide_type": "fragment"
    }
   },
   "source": [
    "- the main database used to quickly fetch and to visualize the data with Kibana"
   ]
  },
  {
   "cell_type": "markdown",
   "metadata": {
    "slideshow": {
     "slide_type": "fragment"
    }
   },
   "source": [
    "- the _\"location\"_ fields is in the **geo_point** format required by elasticsearch, but sometimes in the past has behaved badly, with errors saying that the message is refused since it was seen as a text type. It seems to work now"
   ]
  },
  {
   "cell_type": "markdown",
   "metadata": {
    "slideshow": {
     "slide_type": "slide"
    }
   },
   "source": [
    "## Express <img src=\"https://www.geekandjob.com/uploads/wiki/2e5b0058b2d38158b21439fe06e9b8fabe3cb139.png\" alt=\"elasticsearch\" style=\"height: 30px; float: left; padding-right: 10px\"/>"
   ]
  },
  {
   "cell_type": "markdown",
   "metadata": {
    "cell_style": "split",
    "slideshow": {
     "slide_type": "fragment"
    }
   },
   "source": [
    "<img src=\"img/API-Prediction.jpg\" alt=\"Kafka\" style=\"height: 600px;\"/>"
   ]
  },
  {
   "cell_type": "markdown",
   "metadata": {
    "cell_style": "split",
    "slideshow": {
     "slide_type": "fragment"
    }
   },
   "source": [
    "The Dotingestion2 API allows the user to create a lineup for both teams and check which one is statistically more likely to win and by which margin, using the Spark model. "
   ]
  },
  {
   "cell_type": "markdown",
   "metadata": {
    "cell_style": "split",
    "slideshow": {
     "slide_type": "fragment"
    }
   },
   "source": [
    "The whole operation can take a few seconds, but once it is done, it is stored directly on the server for future interrogations."
   ]
  },
  {
   "cell_type": "markdown",
   "metadata": {
    "slideshow": {
     "slide_type": "subslide"
    }
   },
   "source": [
    "## Express - go deeper<img src=\"https://www.geekandjob.com/uploads/wiki/2e5b0058b2d38158b21439fe06e9b8fabe3cb139.png\" alt=\"elasticsearch\" style=\"height: 30px; float: left; padding-right: 10px\"/>"
   ]
  },
  {
   "cell_type": "markdown",
   "metadata": {
    "cell_style": "split",
    "slideshow": {
     "slide_type": "fragment"
    }
   },
   "source": [
    "```js\n",
    "/**\n",
    " * Sends a message to Spark through Kafka with the desired prediction\n",
    " * @param {Prediction} prediction Prediction requested by the user\n",
    " */\n",
    "async function produce(prediction) {\n",
    "    await producer.connect()\n",
    "    await producer.send({\n",
    "        topic: OUT_TOPIC,\n",
    "        messages: [\n",
    "            { value: JSON.stringify({ radiant_lineup: prediction.radiantLineup, dire_lineup: prediction.direLineup }) }\n",
    "        ],\n",
    "    })\n",
    "    await producer.disconnect()\n",
    "}\n",
    "```"
   ]
  },
  {
   "cell_type": "markdown",
   "metadata": {
    "cell_style": "split",
    "slideshow": {
     "slide_type": "fragment"
    }
   },
   "source": [
    "This method is called each time a user submits a request to the server and the prediction is not already stored in the cache."
   ]
  },
  {
   "cell_type": "markdown",
   "metadata": {
    "cell_style": "split",
    "slideshow": {
     "slide_type": "fragment"
    }
   },
   "source": [
    "Kafka will send the message to Spark and let it make its prediction."
   ]
  },
  {
   "cell_type": "markdown",
   "metadata": {
    "slideshow": {
     "slide_type": "subslide"
    }
   },
   "source": [
    "## Express - go deeper <img src=\"https://www.geekandjob.com/uploads/wiki/2e5b0058b2d38158b21439fe06e9b8fabe3cb139.png\" alt=\"elasticsearch\" style=\"height: 30px; float: left; padding-right: 10px\"/>"
   ]
  },
  {
   "cell_type": "markdown",
   "metadata": {
    "cell_style": "split",
    "slideshow": {
     "slide_type": "fragment"
    }
   },
   "source": [
    "```js\n",
    "/**\n",
    " * Keeps listening from new messages from kafka.\n",
    " * Once they arrive, it creates the appropriate Prediction and stores it in the caches.\n",
    " * @returns {Promise<void>}\n",
    " */\n",
    "async function consume() {\n",
    "    await consumer.connect();\n",
    "    await consumer.subscribe({\n",
    "        topic: IN_TOPIC,\n",
    "        fromBeginning: true\n",
    "    })\n",
    "    return consumer.run({\n",
    "        eachMessage: async ({ topic, partition, message }) => {\n",
    "            const value = message.value.toString();\n",
    "            const newPredictionJson = JSON.parse(value);\n",
    "            const newPrediction = Prediction.createFromJson(newPredictionJson);\n",
    "        }\n",
    "    })\n",
    "}\n",
    "```"
   ]
  },
  {
   "cell_type": "markdown",
   "metadata": {
    "cell_style": "split",
    "slideshow": {
     "slide_type": "fragment"
    }
   },
   "source": [
    "Each time a message comes back from Spark through Kafka, a new Prediction object is created according to the message values and it is stored into the cache, ready to be served to the user."
   ]
  },
  {
   "cell_type": "markdown",
   "metadata": {
    "slideshow": {
     "slide_type": "subslide"
    }
   },
   "source": [
    "## Express - notes<img src=\"https://www.geekandjob.com/uploads/wiki/2e5b0058b2d38158b21439fe06e9b8fabe3cb139.png\" alt=\"elasticsearch\" style=\"height: 30px; float: left; padding-right: 10px\"/>"
   ]
  },
  {
   "cell_type": "markdown",
   "metadata": {
    "slideshow": {
     "slide_type": "fragment"
    }
   },
   "source": [
    "- it would make sense for this to be the endpoint through which users interact with the whole project, being also able to fetch match data directly"
   ]
  },
  {
   "cell_type": "markdown",
   "metadata": {
    "slideshow": {
     "slide_type": "fragment"
    }
   },
   "source": [
    "- right now, it takes 2 submit actions to know the prediction for a lineup. It could be done better with some loading screen"
   ]
  },
  {
   "cell_type": "markdown",
   "metadata": {
    "slideshow": {
     "slide_type": "fragment"
    }
   },
   "source": [
    "- a Redis microservice could be used to cache Predictions result (and more, with a more complete API)"
   ]
  },
  {
   "cell_type": "markdown",
   "metadata": {
    "slideshow": {
     "slide_type": "slide"
    }
   },
   "source": [
    "## The docker-compose"
   ]
  },
  {
   "cell_type": "markdown",
   "metadata": {
    "slideshow": {
     "slide_type": "fragment"
    }
   },
   "source": [
    "```yaml\n",
    "version: '3.7'\n",
    "services: \n",
    "    cassandra:\n",
    "        build: \n",
    "            context: cassandra\n",
    "        hostname: cassandra\n",
    "        image: dotingestion2:cassandra\n",
    "        container_name: cassandra\n",
    "        environment: \n",
    "            - CASSANDRA_BROADCAST_ADDRESS=cassandra\n",
    "            - CASSANDRA_KEYSPACE=dota_ks\n",
    "            - CASSANDRA_MATCH_TABLE=matches\n",
    "        ports: \n",
    "            - \"9042:9042\"\n",
    "\n",
    "    zookeeper:\n",
    "        hostname: zookeeper\n",
    "        image: confluentinc/cp-zookeeper:6.1.1\n",
    "        container_name: zookeeper\n",
    "        ports:\n",
    "            - \"2181:2181\"\n",
    "        environment:\n",
    "            ZOOKEEPER_CLIENT_PORT: 2181\n",
    "            ZOOKEEPER_SERVER_ID: \"1\"\n",
    "\n",
    "    kafkaserver:\n",
    "        hostname: kafkaserver\n",
    "        image: confluentinc/cp-kafka:6.1.1\n",
    "        container_name: kafkaserver\n",
    "        depends_on:\n",
    "          - zookeeper\n",
    "        ports:\n",
    "          - \"9092:9092\"\n",
    "        environment:\n",
    "          KAFKA_BROKER_ID: 0\n",
    "          KAFKA_ZOOKEEPER_CONNECT: zookeeper:2181\n",
    "          KAFKA_ADVERTISED_LISTENERS: PLAINTEXT://kafkaserver:9092\n",
    "          KAFKA_MESSAGE_MAX_BYTES: 1677722\n",
    "          KAFKA_OFFSETS_TOPIC_REPLICATION_FACTOR: 1\n",
    "          KAFKA_TRANSACTION_STATE_LOG_REPLICATION_FACTOR: 1\n",
    "          KAFKA_CONFLUENT_BALANCER_TOPIC_REPLICATION_FACTOR: 1\n",
    "          KAFKA_DEFAULT_REPLICATION_FACTOR: 1\n",
    "          KAFKA_CONFLUENT_METADATA_TOPIC_REPLICATION_FACTOR: 1\n",
    "\n",
    "    connect-cassandra:\n",
    "        build: \n",
    "            context: connect-cassandra\n",
    "        image: dotingestion2:kafka-connect-cassandra\n",
    "        container_name: connect-cassandra\n",
    "        depends_on:\n",
    "          - kafkaserver\n",
    "          - cassandra\n",
    "\n",
    "    connect-elasticsearch:\n",
    "        build: \n",
    "            context: connect-elastic\n",
    "        image: dotingestion2:kafka-connect-elasticsearch\n",
    "        container_name: connect-elasticsearch\n",
    "        depends_on:\n",
    "          - kafkaserver\n",
    "          - elasticsearch\n",
    "\n",
    "    kafkastream:\n",
    "        build: \n",
    "            context: stream\n",
    "        image: dotingestion2:kafkastream\n",
    "        container_name: kafkastream\n",
    "        depends_on: \n",
    "            - kafkaserver\n",
    "            - kadkaproducer\n",
    "\n",
    "    kafkaproducer:\n",
    "        build: \n",
    "            context: ingestion\n",
    "        image: dotingestion2:ingestion\n",
    "        container_name: kafkaproducer\n",
    "        environment:\n",
    "            API_ENDPOINT: http://api.steampowered.com/IDOTA2Match_570/GetMatchHistoryBySequenceNum/V001/?key={}&start_at_match_seq_num={}\n",
    "            TOPIC: dota_raw\n",
    "            MATCH_SEQ_NUM: 5027413827\n",
    "            HISTORY_ENDPOINT: https://api.steampowered.com/IDOTA2Match_570/GetMatchHistory/V001/?key={}&matches_requested=1\n",
    "        depends_on: \n",
    "            - kafkaserver\n",
    "\n",
    "    webui:\n",
    "        image: provectuslabs/kafka-ui:latest\n",
    "        container_name: kafkaWebUI\n",
    "        environment:\n",
    "            KAFKA_CLUSTERS_0_NAME: my_cluster\n",
    "            KAFKA_CLUSTERS_0_ZOOKEEPER: zookeeper:2181\n",
    "            KAFKA_CLUSTERS_0_BOOTSTRAPSERVERS: kafkaServer:9092\n",
    "        ports: \n",
    "            - 8080:8080\n",
    "        depends_on: \n",
    "            - kafkaserver\n",
    "\n",
    "    spark:\n",
    "        build: \n",
    "            context: spark\n",
    "        image: dotingestion2:spark\n",
    "        container_name: spark\n",
    "        depends_on: \n",
    "            - kafkaserver\n",
    "            - elasticsearch\n",
    "            - connect-elasticsearch\n",
    "\n",
    "    elasticsearch:\n",
    "        hostname: elasticsearch\n",
    "        image: docker.elastic.co/elasticsearch/elasticsearch:7.12.1\n",
    "        container_name: elasticsearch\n",
    "        ports:\n",
    "            - \"9200:9200\"\n",
    "        environment:\n",
    "            - node.name=elasticsearch\n",
    "            - cluster.name=elasticsearch-docker-cluster\n",
    "            - discovery.seed_hosts=elasticsearch\n",
    "            - cluster.initial_master_nodes=elasticsearch\n",
    "            - \"ES_JAVA_OPTS=-Xms512m -Xmx512m\"\n",
    "        depends_on: \n",
    "            - kafkaserver\n",
    "        \n",
    "    kibana:\n",
    "        image: docker.elastic.co/kibana/kibana:7.12.1\n",
    "        container_name: kibana\n",
    "        ports:\n",
    "            - \"5601:5601\"\n",
    "        depends_on: \n",
    "            - kafkaserver\n",
    "\n",
    "    api:\n",
    "        build: \n",
    "            context: api\n",
    "        image: dotingestion2:api\n",
    "        container_name: api\n",
    "        ports:\n",
    "            - \"3000:3000\"\n",
    "        environment: \n",
    "            PORT: \"3000\"\n",
    "        depends_on: \n",
    "            - kafkaserver\n",
    "```"
   ]
  },
  {
   "cell_type": "markdown",
   "metadata": {
    "slideshow": {
     "slide_type": "slide"
    }
   },
   "source": [
    "## Let's put toghether the pipeline"
   ]
  },
  {
   "cell_type": "markdown",
   "metadata": {
    "cell_style": "split",
    "slideshow": {
     "slide_type": "fragment"
    }
   },
   "source": [
    "- To run the Elasticsearch container you may need to tweak the *vm.max_map_count* variable. See [here](https://www.elastic.co/guide/en/elasticsearch/reference/current/docker.html)\n",
    "- Download [DataStax Apache Kafka® Connector](https://downloads.datastax.com/#akc) and place it in the _connect-cassandra_ directory\n",
    "- Make sure you are in the root directory, with the _docker-compose.yaml_ file\n",
    "- Create an _ingestion/settings.yaml_ file (see _ingestion/settings.yaml.example_)"
   ]
  },
  {
   "cell_type": "markdown",
   "metadata": {
    "cell_style": "split",
    "slideshow": {
     "slide_type": "fragment"
    }
   },
   "source": [
    "Finally, run\n",
    "```bash\n",
    "docker-compose up\n",
    "```"
   ]
  }
 ],
 "metadata": {
  "celltoolbar": "Slideshow",
  "kernelspec": {
   "display_name": "Python 3",
   "language": "python",
   "name": "python3"
  },
  "language_info": {
   "codemirror_mode": {
    "name": "ipython",
    "version": 3
   },
   "file_extension": ".py",
   "mimetype": "text/x-python",
   "name": "python",
   "nbconvert_exporter": "python",
   "pygments_lexer": "ipython3",
   "version": "3.8.8"
  },
  "metadata": {
   "interpreter": {
    "hash": "0127c303fbccb15217643322bcf9c25c317fb9b737ccbbfd80302522152f4aad"
   }
  },
  "rise": {
   "enable_chalkboard": true,
   "theme": "white"
  }
 },
 "nbformat": 4,
 "nbformat_minor": 2
}
