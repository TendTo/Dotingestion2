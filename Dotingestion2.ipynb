{
 "cells": [
  {
   "cell_type": "markdown",
   "metadata": {},
   "source": [
    "# Dotingestion 2:\r\n",
    "### there is no Dotingestion 1"
   ]
  },
  {
   "cell_type": "markdown",
   "metadata": {},
   "source": [
    "## What is [Dota 2](https://www.dota2.com/home)?\r\n",
    "<img src=\"https://i.pinimg.com/originals/8a/8b/50/8a8b50da2bc4afa933718061fe291520.jpg\" alt=\"Dota 2 logo\" style=\"width: 200px;\" style=\"margin: auto;\"/>\r\n",
    "\r\n",
    "Dota 2 is a multiplayer online battle arena (MOBA) video game developed and published by Valve.\r\n",
    "Ten players, splitted in two teams of five, compete to destroy a large structure defended by the opposing team known as the \"Ancient\", whilst defending their own.\r\n",
    "The game is controlled using standard real-time strategy (RTS) controls, and is presented on a single map in a three-dimensional isometric perspective.\r\n",
    "\r\n",
    "\r\n",
    "\r\n",
    "\r\n"
   ]
  },
  {
   "cell_type": "markdown",
   "metadata": {},
   "source": [
    "## But one does not simply play Dota...\r\n",
    "\r\n",
    "<img src=\"https://i.stack.imgur.com/GIkIj.jpg\" alt=\"Dota 2 map\" style=\"width: 400px;\"/>\r\n",
    "<iframe width=\"560\" height=\"315\" src=\"https://www.youtube-nocookie.com/embed/yHYRckhUJ_0\" title=\"TI9 BEST MOST EPIC MOMENTS! - THE INTERNATIONAL 2019 DOTA 2\" frameborder=\"0\" allow=\"accelerometer; autoplay; clipboard-write; encrypted-media; gyroscope; picture-in-picture\" allowfullscreen></iframe>\r\n",
    "\r\n",
    "\r\n",
    "What makes the game very enjoyable for veteran players (and extremely hard to get into for newbies) is the incredible depth of the game mechanics.\r\n",
    "Just to give an idea, at the beginning of each game the players have to choose an hero, the characther they will play for the rest of the match.\r\n",
    "With an hero pool of over 120 heroes, each with 4 (or more) unique abilities, there are more that 10^14 possible team combinations!\r\n",
    "And this without taking into considerations the many ways each hero can be played, which go from some minor changes to drastic alterations on one's role in the team."
   ]
  },
  {
   "cell_type": "markdown",
   "metadata": {},
   "source": [
    "## If you are good at something, never do it for free...\r\n",
    "\r\n",
    "<img src=\"https://img.redbull.com/images/q_auto,f_auto/redbullcom/2018/01/02/976bd59b-e905-4d7d-9f96-0c206c1b66e3/dota2-valve-prize-pool-history\" alt=\"Dota 2 map\" style=\"width: 400px;\"/>\r\n",
    "\r\n",
    "\r\n",
    "**The International** is Dota's annual esports world championship tournament.\r\n",
    "Starting with The International 2013 onward, the tournament's prize pool began to be crowdfunded through a type of in-game battle pass called the \"Compendium\", which raises money from players buying them to get exclusive in-game virtual goods and other bonuses. 25% of all the revenue made from yearly Compendiums go directly to the prize pool. Each iteration of The International has surpassed the previous one's prize pool, with the last one, going over $40,000,000!"
   ]
  },
  {
   "cell_type": "markdown",
   "metadata": {},
   "source": [
    "## Dota is data, and knowledge is power\r\n",
    "\r\n",
    "<img src=\"https://www.dotabuff.com/assets/pages/app/app_screenshot_2-ee6f3476d62004d200e4cd3b696e7a8d0fc631c8b075a854c319b6b255cfeeee.png\" alt=\"Dotabuff\" style=\"width: 400px;\"/>\r\n",
    "<img src=\"https://dota2freaks.com/wp-content/uploads/sites/10/2020/03/Benchmarks-in-OpenDota-1024x545.png\" alt=\"Opendota\" style=\"width: 400px;\"/>\r\n",
    "\r\n",
    "Each Dota match is pretty unique in more than one way, and the fact that there are so many possibilities can be overwhelming, even for experienced players.\r\n",
    "For this reasons, some sevices like [Dotabuff](https://www.dotabuff.com/) or [OpenDota](https://www.opendota.com/) have had great success with the playerbase, since they allow an in deapth analisis of a given game, showing, for example, the most succesfull builds or the best heroes of the meta."
   ]
  },
  {
   "cell_type": "markdown",
   "metadata": {},
   "source": [
    "## The project's goal\r\n",
    "\r\n",
    "The goal of this project is to create a toned down version of the [OpenDota](https://www.opendota.com/) project.\r\n",
    "This means creating a ETL pipeline that ingests the data from all matches as they end, analizes the data and stores it, so that it can be fetched easily later.\r\n",
    "In addition, a simple LinearRegression algoritm, trained on all the matches, will try to predict the winning team based only on the hero lineup."
   ]
  }
 ],
 "metadata": {
  "kernelspec": {
   "display_name": "Python 3.9.2  ('venv': venv)",
   "name": "pythonjvsc74a57bd00127c303fbccb15217643322bcf9c25c317fb9b737ccbbfd80302522152f4aad"
  },
  "language_info": {
   "name": "python",
   "version": ""
  },
  "metadata": {
   "interpreter": {
    "hash": "0127c303fbccb15217643322bcf9c25c317fb9b737ccbbfd80302522152f4aad"
   }
  },
  "orig_nbformat": 2
 },
 "nbformat": 4,
 "nbformat_minor": 2
}